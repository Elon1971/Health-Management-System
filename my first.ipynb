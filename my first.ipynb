{
 "cells": [
  {
   "cell_type": "code",
   "execution_count": null,
   "id": "82e4c627",
   "metadata": {},
   "outputs": [],
   "source": [
    "\n",
    "\n"
   ]
  },
  {
   "cell_type": "markdown",
   "id": "3d2b281f",
   "metadata": {},
   "source": []
  },
  {
   "cell_type": "code",
   "execution_count": 6,
   "id": "a0a9931c",
   "metadata": {},
   "outputs": [
    {
     "name": "stdout",
     "output_type": "stream",
     "text": [
      "HEALTH MANAGEMENT SYSTEM\n",
      "THIS SYSTEM IS FOR MAINTAINING THE DIET AND EXERCISES OF PEOPLE\n",
      "For how many people you want to make it\n",
      "1 for yash, 2 for lavi, c for chotu\n",
      "2\n",
      "1 for lock and 2 for retrieval data\n",
      "2\n",
      "Press 1 for diet and 2 for exercise\n",
      "2\n",
      "Running\n"
     ]
    }
   ],
   "source": [
    "print (\"HEALTH MANAGEMENT SYSTEM\")\n",
    "print (\"THIS SYSTEM IS FOR MAINTAINING THE DIET AND EXERCISES OF PEOPLE\")\n",
    "print (\"For how many people you want to make it\")\n",
    "print(\"1 for yash, 2 for lavi, c for chotu\")\n",
    "n = int(input())\n",
    "print(\"1 for lock and 2 for retrieval data\")\n",
    "w = int(input())\n",
    "print(\"Press 1 for diet and 2 for exercise\")\n",
    "m = int(input())\n",
    "\n",
    "if n==1:\n",
    "  if w==1:\n",
    "    if m==1:\n",
    "     x=open(\"yashd.txt\",\"a\")\n",
    "     z=input()\n",
    "     x.write(z)\n",
    "     x.close()\n",
    "    else:\n",
    "     x1=open(\"yashe.txt\",\"a\")\n",
    "     z1=input()\n",
    "     x1.write(z1)\n",
    "     x1.close()\n",
    "  else:\n",
    "    if m==1:\n",
    "     x= open(\"yashd.txt\")\n",
    "     c = x.read()\n",
    "     print(c)\n",
    "     x.close()\n",
    "    else:\n",
    "     x1= open(\"yashe.txt\")\n",
    "     c1 = x1.read()\n",
    "     print(c1)\n",
    "     x1.close()\n",
    "elif n==2:\n",
    "  if w==1:\n",
    "    if m==1:\n",
    "     o=open(\"lavid.txt\",\"a\")\n",
    "     z=input()\n",
    "     o.write(z)\n",
    "     o.close()\n",
    "    else:\n",
    "     o1=open(\"lavie.txt\",\"a\")\n",
    "     z1=input()\n",
    "     o1.write(z1)\n",
    "     o1.close()\n",
    "  else:\n",
    "    if m==1:\n",
    "     o= open(\"lavid.txt\")\n",
    "     c = o.read()\n",
    "     print(c)\n",
    "     o.close()\n",
    "    else:\n",
    "     o1= open(\"lavie.txt\")\n",
    "     c1 = o1.read()\n",
    "     print(c1)\n",
    "     o1.close()\n",
    "else:\n",
    "  if w==1:\n",
    "    if m==1:\n",
    "     p=open(\"chotud.txt\",\"a\")\n",
    "     z=input()\n",
    "     p.write(z)\n",
    "     p.close()\n",
    "    else:\n",
    "     p1=open(\"chotue.txt\",\"a\")\n",
    "     z1=input()\n",
    "     p1.write(z1)\n",
    "     p1.close()\n",
    "  else:\n",
    "    if m==1:\n",
    "      p= open(\"chotud.txt\")\n",
    "      c = p.read()\n",
    "      print(c)\n",
    "      p.close()\n",
    "    else:\n",
    "      p1= open(\"chotue.txt\")\n",
    "      c1 = p1.read()\n",
    "      print(c1)\n",
    "      p1.close()\n"
   ]
  },
  {
   "cell_type": "code",
   "execution_count": null,
   "id": "006dc9a2",
   "metadata": {},
   "outputs": [],
   "source": [
    "\n"
   ]
  },
  {
   "cell_type": "code",
   "execution_count": null,
   "id": "cecc50c2",
   "metadata": {},
   "outputs": [],
   "source": []
  }
 ],
 "metadata": {
  "kernelspec": {
   "display_name": "Python 3 (ipykernel)",
   "language": "python",
   "name": "python3"
  },
  "language_info": {
   "codemirror_mode": {
    "name": "ipython",
    "version": 3
   },
   "file_extension": ".py",
   "mimetype": "text/x-python",
   "name": "python",
   "nbconvert_exporter": "python",
   "pygments_lexer": "ipython3",
   "version": "3.9.12"
  }
 },
 "nbformat": 4,
 "nbformat_minor": 5
}
